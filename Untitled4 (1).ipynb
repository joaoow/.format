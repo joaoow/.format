{
  "nbformat": 4,
  "nbformat_minor": 0,
  "metadata": {
    "colab": {
      "provenance": []
    },
    "kernelspec": {
      "name": "python3",
      "display_name": "Python 3"
    },
    "language_info": {
      "name": "python"
    }
  },
  "cells": [
    {
      "cell_type": "code",
      "execution_count": 4,
      "metadata": {
        "colab": {
          "base_uri": "https://localhost:8080/"
        },
        "id": "Pg2WHjULV1ob",
        "outputId": "3c509da8-20b0-4a05-c6d4-8444221ee9d8"
      },
      "outputs": [
        {
          "output_type": "stream",
          "name": "stdout",
          "text": [
            "Digite seu nome: joao\n",
            "Digite sua idade: 45\n",
            "Digite seu peso: 54.6\n",
            "Seu nome é joao, idade 45, e seu peso é 54.6\n"
          ]
        }
      ],
      "source": [
        "nome = input('Digite seu nome: ')\n",
        "idade = eval(input('Digite sua idade: '))\n",
        "peso = float(input('Digite seu peso: '))\n",
        "print('Seu nome é {}, idade {}, e seu peso é {}'.format(nome, idade, peso))\n",
        "\n"
      ]
    }
  ]
}